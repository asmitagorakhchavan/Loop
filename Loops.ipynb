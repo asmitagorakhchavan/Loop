{
 "cells": [
  {
   "cell_type": "markdown",
   "id": "e09df1ff-58c5-45f9-bee6-66e1ba3f9153",
   "metadata": {},
   "source": [
    "# Loops"
   ]
  },
  {
   "cell_type": "markdown",
   "id": "8e289eda-d2cc-4ae5-a6f5-1c3144b5e6e4",
   "metadata": {},
   "source": [
    "***What is a Loop in Python?***\n",
    "\n",
    "**A loop in Python (or any programming language) is a way to repeatedly execute a block of code multiple times without needing to manually write the same code over and over. Loops are used when you want to perform repetitive tasks based on some condition or a sequence of values.**"
   ]
  },
  {
   "cell_type": "markdown",
   "id": "a39c7f2c-683b-478b-bdfe-8a6518bad3f8",
   "metadata": {},
   "source": [
    "*In Python, there are two primary types of loops:*\n",
    "\n",
    "1. For Loop: Iterates over a sequence (like a list, tuple, string, or a range of numbers).\n",
    "2. While Loop: Repeats a block of code as long as a specified condition remains true."
   ]
  },
  {
   "cell_type": "markdown",
   "id": "a5835f5a-5f3f-43fc-aaca-1b0a280d1d55",
   "metadata": {},
   "source": [
    "**Why Use Loops?**\n",
    "\n",
    "Loops are useful when you want to:\n",
    "\n",
    "- Perform an action multiple times.\n",
    "- Process or manipulate items in a collection (like a list or dictionary).\n",
    "- Automate repetitive tasks."
   ]
  },
  {
   "cell_type": "markdown",
   "id": "b6e4140b-723e-4078-b79b-7b18343433d2",
   "metadata": {},
   "source": [
    "**When to Use Loops**\n",
    "\n",
    "You should use loops when you need to repeat an action multiple times. Here are some common use cases for loops in Python:\n",
    "\n",
    "1. **Processing elements in a collection** (like lists, dictionaries, or sets):\n",
    "\n",
    "\n",
    "       - For example, iterating over a list of numbers to compute the sum or find the maximum.\n",
    "\n",
    "2. **Repetitive tasks:**\n",
    "\n",
    "\n",
    "       -Running a task multiple times, such as asking a user for input multiple times or processing items in a list.\n",
    "\n",
    "3. **Iterating through ranges:**\n",
    "\n",
    "\n",
    "       -When you want to execute something a specific number of times (using range()).\n",
    "\n",
    "\n",
    "5. **Working with multi-dimensional data:**\n",
    "\n",
    "\n",
    "         -For example, looping through a matrix or a list of lists.\n"
   ]
  },
  {
   "cell_type": "markdown",
   "id": "6e3c46d4-b546-4d9b-a25f-56af316b7133",
   "metadata": {},
   "source": []
  },
  {
   "cell_type": "markdown",
   "id": "5c3deae8-0250-400d-bf8f-79ad957787b2",
   "metadata": {},
   "source": [
    "1. **For Loop**"
   ]
  },
  {
   "cell_type": "markdown",
   "id": "659da93e-cbac-4035-bce6-9ba4981891aa",
   "metadata": {},
   "source": [
    "*A **For loop** in Python is a control flow statement that allows you to iterate over a sequence (like a list, tuple, string, or any other iterable) and execute a block of code repeatedly for each item in that sequence. This makes the for loop a great choice for tasks where you need to repeat something for each element in a collection.*"
   ]
  },
  {
   "cell_type": "markdown",
   "id": "dd9cac58-3b80-49fb-b668-f77c5f28e7c8",
   "metadata": {},
   "source": [
    "**Basic Syntax of a For Loop**\n",
    "\n",
    "for variable in iterable:\n",
    "\n",
    "    # Code block to be executed\n"
   ]
  },
  {
   "cell_type": "markdown",
   "id": "195611df-faad-4beb-b9b9-be668fe9a55a",
   "metadata": {},
   "source": [
    "- Variable: A temporary name for each item in the iterable. It takes the value of each element in the iterable one by one.\n",
    "\n",
    "- Iterable: This can be any object capable of returning its members one at a time, permitting it to be iterated over (like lists, tuples, strings, ranges, etc.)."
   ]
  },
  {
   "cell_type": "markdown",
   "id": "814c39a9-889e-459c-82ad-77a98255a88f",
   "metadata": {},
   "source": [
    "**Example 1: Basic iteration over a list**\n"
   ]
  },
  {
   "cell_type": "code",
   "execution_count": 5,
   "id": "ef8552cd-bac7-44d2-aa0c-65a2625db8d8",
   "metadata": {},
   "outputs": [
    {
     "name": "stdout",
     "output_type": "stream",
     "text": [
      "apple\n",
      "banana\n",
      "cherry\n"
     ]
    }
   ],
   "source": [
    "fruits = ['apple', 'banana', 'cherry']\n",
    "for fruit in fruits:\n",
    "    print(fruit)\n",
    "\n",
    "\n",
    "#In this example, the variable fruit will take on the value of each element in the fruits list during each iteration of the loop."
   ]
  },
  {
   "cell_type": "code",
   "execution_count": null,
   "id": "c3088996-6587-44d8-9ed8-a5e4aaa52ac0",
   "metadata": {},
   "outputs": [],
   "source": []
  },
  {
   "cell_type": "markdown",
   "id": "d5b691b2-3473-45cc-8bda-7a9b10fa0e6c",
   "metadata": {},
   "source": [
    "**The Range Function**\n",
    "\n",
    "\n",
    "In many cases, you might want to iterate a specific number of times (rather than over the elements of an iterable). This is where the range() function comes in handy. It generates a sequence of numbers, which you can then loop over."
   ]
  },
  {
   "cell_type": "code",
   "execution_count": 7,
   "id": "3de618d1-8912-46e1-8b38-a55d646fe344",
   "metadata": {},
   "outputs": [
    {
     "name": "stdout",
     "output_type": "stream",
     "text": [
      "0\n",
      "1\n",
      "2\n",
      "3\n",
      "4\n"
     ]
    }
   ],
   "source": [
    "for i in range(5):\n",
    "    print(i)\n",
    " #range(5) generates a sequence of numbers from 0 to 4 (5 is exclusive)."
   ]
  },
  {
   "cell_type": "code",
   "execution_count": 11,
   "id": "cfc782f4-664c-4cf8-baf0-b15196976f88",
   "metadata": {},
   "outputs": [
    {
     "name": "stdout",
     "output_type": "stream",
     "text": [
      "2\n",
      "4\n",
      "6\n",
      "8\n"
     ]
    }
   ],
   "source": [
    "##The range() function can also accept two or three arguments: range(start, stop) or range(start, stop, step).\n",
    "\n",
    "for i in range(2, 10, 2):\n",
    "    print(i)\n",
    "\n",
    "\n",
    "#In this case, the loop will iterate over the numbers from 2 to 9 (exclusive) with a step of 2"
   ]
  },
  {
   "cell_type": "markdown",
   "id": "12d0451c-c59d-4cb5-bfd9-9e6be4acdcf7",
   "metadata": {},
   "source": [
    "**Iterating over Different Types of Iterables**"
   ]
  },
  {
   "cell_type": "markdown",
   "id": "d87bde11-41ea-4e47-83f1-55864da27f63",
   "metadata": {},
   "source": [
    "**1. Looping over range()**"
   ]
  },
  {
   "cell_type": "markdown",
   "id": "d22a508a-4b52-4999-ba70-1ca50a664619",
   "metadata": {},
   "source": [
    "The range() function generates a sequence of numbers, which is commonly used with loops. It can take 1, 2, or 3 arguments: range(stop), range(start, stop), and range(start, stop, step)."
   ]
  },
  {
   "cell_type": "code",
   "execution_count": 22,
   "id": "8326cb97-4e26-4101-aca3-00e53858100b",
   "metadata": {},
   "outputs": [
    {
     "name": "stdout",
     "output_type": "stream",
     "text": [
      "0\n",
      "1\n",
      "2\n",
      "3\n",
      "4\n",
      "2\n",
      "3\n",
      "4\n",
      "5\n",
      "6\n",
      "0\n",
      "2\n",
      "4\n",
      "6\n",
      "8\n"
     ]
    }
   ],
   "source": [
    "# Example with one argument\n",
    "for i in range(5):  # 0, 1, 2, 3, 4\n",
    "    print(i)\n",
    "\n",
    "# Example with two arguments\n",
    "for i in range(2, 7):  # 2, 3, 4, 5, 6\n",
    "    print(i)\n",
    "\n",
    "# Example with three arguments\n",
    "for i in range(0, 10, 2):  # 0, 2, 4, 6, 8\n",
    "    print(i)\n",
    "\n",
    "#The loop will iterate through the range and print numbers according to the given start, stop, and step parameters."
   ]
  },
  {
   "cell_type": "code",
   "execution_count": null,
   "id": "da39a714-9236-4c60-9c4c-2fda686aef2e",
   "metadata": {},
   "outputs": [],
   "source": []
  },
  {
   "cell_type": "markdown",
   "id": "0c85698f-7699-46f7-987f-9c430c6156f9",
   "metadata": {},
   "source": [
    "**2. Looping over a string**"
   ]
  },
  {
   "cell_type": "markdown",
   "id": "f9cbfb8d-7230-486d-a4ba-d909fa9e9542",
   "metadata": {},
   "source": [
    "In Python, strings are iterable. This means you can loop through each character in a string."
   ]
  },
  {
   "cell_type": "code",
   "execution_count": 24,
   "id": "91258c3d-991e-4275-a2cc-9a8bbf790c3d",
   "metadata": {},
   "outputs": [
    {
     "name": "stdout",
     "output_type": "stream",
     "text": [
      "H\n",
      "e\n",
      "l\n",
      "l\n",
      "o\n"
     ]
    }
   ],
   "source": [
    "my_string = \"Hello\"\n",
    "for char in my_string:\n",
    "    print(char)\n",
    "#The loop iterates through each character in the string and prints it one by one"
   ]
  },
  {
   "cell_type": "code",
   "execution_count": null,
   "id": "24849f54-1103-4a9f-8809-2b521ceaa039",
   "metadata": {},
   "outputs": [],
   "source": []
  },
  {
   "cell_type": "markdown",
   "id": "be3fe779-8c80-4725-a564-2b138f441b1f",
   "metadata": {},
   "source": [
    "**3. Looping over a list**"
   ]
  },
  {
   "cell_type": "markdown",
   "id": "e7760b75-5922-4266-a445-2795bcd46796",
   "metadata": {},
   "source": [
    "A list is an ordered collection, and you can loop over the elements using a for loop."
   ]
  },
  {
   "cell_type": "code",
   "execution_count": 26,
   "id": "62da7cf7-2e7c-4af5-821c-78352164b386",
   "metadata": {},
   "outputs": [
    {
     "name": "stdout",
     "output_type": "stream",
     "text": [
      "10\n",
      "20\n",
      "30\n",
      "40\n"
     ]
    }
   ],
   "source": [
    "my_list = [10, 20, 30, 40]\n",
    "for item in my_list:\n",
    "    print(item)\n",
    "#The loop will iterate over each element in the list"
   ]
  },
  {
   "cell_type": "code",
   "execution_count": null,
   "id": "b1540dc1-9d6e-494a-b303-4279f4c2a58e",
   "metadata": {},
   "outputs": [],
   "source": []
  },
  {
   "cell_type": "markdown",
   "id": "6d4ca3cb-5989-4ef6-8a19-1cb33387e28f",
   "metadata": {},
   "source": [
    "**4. Looping over a tuple**"
   ]
  },
  {
   "cell_type": "markdown",
   "id": "32afba72-0700-4068-91a2-cb5cd2ef8096",
   "metadata": {},
   "source": [
    "Like lists, tuples are also ordered collections. You can loop through the elements in a tuple in the same way as a list."
   ]
  },
  {
   "cell_type": "code",
   "execution_count": 27,
   "id": "fef35160-6664-4260-be52-b092708d0a61",
   "metadata": {},
   "outputs": [
    {
     "name": "stdout",
     "output_type": "stream",
     "text": [
      "1\n",
      "2\n",
      "3\n",
      "4\n"
     ]
    }
   ],
   "source": [
    "my_tuple = (1, 2, 3, 4)\n",
    "for item in my_tuple:\n",
    "    print(item)\n",
    "#A tuple behaves similarly to a list in terms of iteration"
   ]
  },
  {
   "cell_type": "markdown",
   "id": "4e390ff1-3f89-4533-b63d-0a064f64be8c",
   "metadata": {},
   "source": [
    "**5. Looping over a dictionary**"
   ]
  },
  {
   "cell_type": "markdown",
   "id": "bbe3e630-9f74-48da-b4f5-3b0224109a39",
   "metadata": {},
   "source": [
    "A dictionary in Python is an unordered collection of key-value pairs. When looping through a dictionary, you can iterate over its keys, values, or both."
   ]
  },
  {
   "cell_type": "code",
   "execution_count": 28,
   "id": "13c81e4e-89b5-4aaa-bb0a-3d724a3f4628",
   "metadata": {},
   "outputs": [
    {
     "name": "stdout",
     "output_type": "stream",
     "text": [
      "a\n",
      "b\n",
      "c\n"
     ]
    }
   ],
   "source": [
    "#Looping over keys:\n",
    "\n",
    "my_dict = {'a': 1, 'b': 2, 'c': 3}\n",
    "for key in my_dict:\n",
    "    print(key)\n"
   ]
  },
  {
   "cell_type": "code",
   "execution_count": null,
   "id": "26133072-ad65-493a-a5be-21a0973e1af5",
   "metadata": {},
   "outputs": [],
   "source": []
  },
  {
   "cell_type": "code",
   "execution_count": 30,
   "id": "e869373b-ec9a-4292-9f97-8bf7c60d75b2",
   "metadata": {},
   "outputs": [
    {
     "name": "stdout",
     "output_type": "stream",
     "text": [
      "1\n",
      "2\n",
      "3\n"
     ]
    }
   ],
   "source": [
    "#Looping over values:\n",
    "\n",
    "for value in my_dict.values():\n",
    "    print(value)\n"
   ]
  },
  {
   "cell_type": "code",
   "execution_count": null,
   "id": "9b43a87a-efff-4337-bf8c-fd8fa71d4f5b",
   "metadata": {},
   "outputs": [],
   "source": []
  },
  {
   "cell_type": "code",
   "execution_count": 32,
   "id": "ceda0f35-e82b-4a10-b451-022edf72eb34",
   "metadata": {},
   "outputs": [
    {
     "name": "stdout",
     "output_type": "stream",
     "text": [
      "Key: a, Value: 1\n",
      "Key: b, Value: 2\n",
      "Key: c, Value: 3\n"
     ]
    }
   ],
   "source": [
    "#Looping over both keys and values:\n",
    "\n",
    "for key, value in my_dict.items():\n",
    "    print(f\"Key: {key}, Value: {value}\")\n",
    "\n",
    "# The .items() method allows you to access both the key and value at the same time."
   ]
  },
  {
   "cell_type": "code",
   "execution_count": null,
   "id": "0b957cc0-d8e5-44b1-986a-f23dd34c9063",
   "metadata": {},
   "outputs": [],
   "source": []
  },
  {
   "cell_type": "markdown",
   "id": "ca5de70d-ad24-404d-a4f1-bae35bb2a820",
   "metadata": {},
   "source": [
    "**6. Looping over a set**"
   ]
  },
  {
   "cell_type": "markdown",
   "id": "f7e69920-64fa-4661-9d6a-c0c3e20c5109",
   "metadata": {},
   "source": [
    "A set is an unordered collection of unique elements. You can loop through its elements just like a list or tuple, but the order of elements is not guaranteed."
   ]
  },
  {
   "cell_type": "code",
   "execution_count": 34,
   "id": "22095090-755f-44d2-9992-4480f7c25c89",
   "metadata": {},
   "outputs": [
    {
     "name": "stdout",
     "output_type": "stream",
     "text": [
      "40\n",
      "10\n",
      "20\n",
      "30\n"
     ]
    }
   ],
   "source": [
    "my_set = {10, 20, 30, 40}\n",
    "for item in my_set:\n",
    "    print(item)\n",
    "\n",
    "#(The order of output may vary since sets are unordered.)\n",
    "\n",
    "#A set does not allow duplicate values, and the order of elements can change each time you loop over it"
   ]
  },
  {
   "cell_type": "code",
   "execution_count": null,
   "id": "84e5cd24-b0cc-40e7-99b6-795fbd39024d",
   "metadata": {},
   "outputs": [],
   "source": []
  },
  {
   "cell_type": "markdown",
   "id": "3ca18d1f-1eb4-4b71-9ce6-aa56d4085a41",
   "metadata": {},
   "source": [
    "**SUMMARY**\n",
    "\n",
    "- range(): Loops over a sequence of numbers.\n",
    " \n",
    "- string: Loops through each character in the string.\n",
    "  \n",
    "- list: Loops through each element in the list.\n",
    "- tuple: Loops through each element in the tuple.\n",
    "- dictionary: Loops through keys, values, or both keys and values.\n",
    "- set: Loops through each unique element, but order is not guaranteed."
   ]
  },
  {
   "cell_type": "code",
   "execution_count": null,
   "id": "bc2beb74-3d7d-4fcb-8bed-9a7506977fd1",
   "metadata": {},
   "outputs": [],
   "source": []
  },
  {
   "cell_type": "markdown",
   "id": "b87995b5-02b2-44ad-b0b1-917beb41e738",
   "metadata": {},
   "source": [
    "**NESTED FOR LOOP**"
   ]
  },
  {
   "cell_type": "markdown",
   "id": "9583e706-5a6d-4fca-943a-adc5f3d79f50",
   "metadata": {},
   "source": [
    "A nested for loop in Python refers to a for loop inside another for loop. This structure allows you to iterate over multi-dimensional data (like lists of lists) or perform tasks that require iteration over multiple sequences simultaneously. Let's break down the details."
   ]
  },
  {
   "cell_type": "markdown",
   "id": "f21e401d-9a3c-4cd6-9e8d-0f1a4063b8dd",
   "metadata": {},
   "source": [
    "**Basic Syntax:**"
   ]
  },
  {
   "cell_type": "raw",
   "id": "fd08906e-2e7b-4856-b751-cac92856f73d",
   "metadata": {},
   "source": [
    "for outer_variable in outer_iterable:\n",
    "    for inner_variable in inner_iterable:\n",
    "        \n",
    "        # Code to execute\n",
    "- The outer loop will iterate over its iterable (like a list, tuple, or range).\n",
    "- For each iteration of the outer loop, the inner loop will iterate over its own iterable."
   ]
  },
  {
   "cell_type": "markdown",
   "id": "6cbe3111-467f-45d7-8a55-84211af97f7d",
   "metadata": {},
   "source": [
    "**EXAMPLE:**"
   ]
  },
  {
   "cell_type": "code",
   "execution_count": 39,
   "id": "97e93a57-0495-40ce-b83a-22c092c13f92",
   "metadata": {},
   "outputs": [
    {
     "name": "stdout",
     "output_type": "stream",
     "text": [
      "i = 0, j = 0\n",
      "i = 0, j = 1\n",
      "i = 1, j = 0\n",
      "i = 1, j = 1\n",
      "i = 2, j = 0\n",
      "i = 2, j = 1\n"
     ]
    }
   ],
   "source": [
    "for i in range(3):  # Outer loop\n",
    "    for j in range(2):  # Inner loop\n",
    "        print(f\"i = {i}, j = {j}\")\n"
   ]
  },
  {
   "cell_type": "markdown",
   "id": "8cfbe8bd-a454-4888-93a0-0b3940fe0522",
   "metadata": {},
   "source": [
    "In this example:\n",
    "\n",
    "- The outer loop (for i in range(3)) iterates 3 times.\n",
    "- For each iteration of the outer loop, the inner loop (for j in range(2)) iterates 2 times.\n",
    "- So, there are a total of 6 iterations in the combined loops."
   ]
  },
  {
   "cell_type": "code",
   "execution_count": null,
   "id": "28e95d6e-bac4-44e6-b30f-0ef30fa3df5a",
   "metadata": {},
   "outputs": [],
   "source": []
  },
  {
   "cell_type": "markdown",
   "id": "ee681bef-ed90-4eaa-968a-863eafbad676",
   "metadata": {},
   "source": [
    "**When to Use Nested Loops:**"
   ]
  },
  {
   "cell_type": "markdown",
   "id": "cb16a6d3-175b-4fa6-8453-538b8ee8bc06",
   "metadata": {},
   "source": [
    "1. Multi-dimensional data: When working with 2D arrays (or lists of lists), such as when you want to access elements in a matrix."
   ]
  },
  {
   "cell_type": "markdown",
   "id": "d88eb25c-4f36-41f2-b295-c130029c5718",
   "metadata": {},
   "source": [
    "Example of iterating over a 2D list:"
   ]
  },
  {
   "cell_type": "code",
   "execution_count": 40,
   "id": "1200b651-25bf-4b18-9608-72d3f648c9f6",
   "metadata": {},
   "outputs": [
    {
     "name": "stdout",
     "output_type": "stream",
     "text": [
      "1 2 3 \n",
      "4 5 6 \n",
      "7 8 9 \n"
     ]
    }
   ],
   "source": [
    "matrix = [\n",
    "    [1, 2, 3],\n",
    "    [4, 5, 6],\n",
    "    [7, 8, 9]\n",
    "]\n",
    "\n",
    "for row in matrix:\n",
    "    for elem in row:\n",
    "        print(elem, end=\" \")\n",
    "    print()  # Print new line after each row\n"
   ]
  },
  {
   "cell_type": "markdown",
   "id": "d3f92551-a259-4b1c-9bdc-dc38c9440b1d",
   "metadata": {},
   "source": [
    "2. Combinations and permutations: If you need to loop through combinations of elements in a sequence.\n",
    "\n",
    "3. Nested iterations with different step sizes: When each loop might need a different step size (e.g., one with a range of 10, and another with a range of 5)."
   ]
  },
  {
   "cell_type": "code",
   "execution_count": null,
   "id": "2c161d97-c909-47db-b3fa-c6bcd9edcbce",
   "metadata": {},
   "outputs": [],
   "source": []
  },
  {
   "cell_type": "markdown",
   "id": "6611e9eb-e0fc-47cc-aefc-30d2402f9810",
   "metadata": {},
   "source": [
    "**Nested Loops with Different Ranges:**"
   ]
  },
  {
   "cell_type": "code",
   "execution_count": 41,
   "id": "855eb6c7-c2dd-408a-b1f4-8bd09012bd0e",
   "metadata": {},
   "outputs": [
    {
     "name": "stdout",
     "output_type": "stream",
     "text": [
      "i = 1, j = 2\n",
      "i = 1, j = 3\n",
      "i = 1, j = 4\n",
      "i = 2, j = 2\n",
      "i = 2, j = 3\n",
      "i = 2, j = 4\n",
      "i = 3, j = 2\n",
      "i = 3, j = 3\n",
      "i = 3, j = 4\n"
     ]
    }
   ],
   "source": [
    "# EXAMPLE\n",
    "\n",
    "for i in range(1, 4):  # Outer loop from 1 to 3\n",
    "    for j in range(2, 5):  # Inner loop from 2 to 4\n",
    "        print(f\"i = {i}, j = {j}\")\n"
   ]
  },
  {
   "cell_type": "code",
   "execution_count": null,
   "id": "b6aacf10-d0f6-4d93-bbc5-f18cd8a841e0",
   "metadata": {},
   "outputs": [],
   "source": []
  },
  {
   "cell_type": "markdown",
   "id": "07a9c35f-bc24-409f-ac0d-a3dde93df862",
   "metadata": {},
   "source": [
    "**CONCLUSION :**\n",
    "\n",
    "Nested for loops are powerful tools in Python that allow you to iterate over multiple sequences or dimensions. They're widely used in tasks like working with 2D arrays, creating combinations, and solving problems that involve multiple levels of iteration. However, be mindful of the time complexity, especially when dealing with large datasets, as the number of iterations increases rapidly with nested loops."
   ]
  },
  {
   "cell_type": "code",
   "execution_count": null,
   "id": "d7e30db9-db89-42b7-a3c2-1d47dd134b74",
   "metadata": {},
   "outputs": [],
   "source": []
  },
  {
   "cell_type": "markdown",
   "id": "23834dea-24dc-4034-a8b7-8fb669b24403",
   "metadata": {},
   "source": [
    "**2. WHILE LOOP :**"
   ]
  },
  {
   "cell_type": "markdown",
   "id": "402bdc9e-8446-4528-ae8c-049dc4e57954",
   "metadata": {},
   "source": [
    "A while loop is used to repeatedly execute a block of code as long as a specified condition is true. It keeps running the code inside the loop until the condition becomes false."
   ]
  },
  {
   "cell_type": "markdown",
   "id": "3170412d-cf06-44a6-b798-6c8d841bcc63",
   "metadata": {},
   "source": [
    "**Basic Syntax:**\n",
    "\n",
    "while condition:\n",
    "\n",
    "    # Code to execute while the condition is true\n",
    "\n",
    "- condition: This is an expression evaluated before each iteration. As long as the condition evaluates to True, the loop keeps running.\n",
    "- Code block: The block of code inside the loop is indented. It runs on each iteration as long as the condition is True."
   ]
  },
  {
   "cell_type": "markdown",
   "id": "00921c35-f435-4868-8077-38173bc77b4c",
   "metadata": {},
   "source": [
    "**How it works:**\n",
    "\n",
    "- Start: The condition is checked before the loop runs for the first time.\n",
    "- Execution: If the condition is true, the code inside the loop is executed.\n",
    "- Re-check: After the code block executes, the condition is checked again.\n",
    "- Exit: If the condition becomes false, the loop stops, and the program moves on to the next statement outside the loop."
   ]
  },
  {
   "cell_type": "code",
   "execution_count": null,
   "id": "1a7b7e5b-3327-43a2-989c-67e1e333b88b",
   "metadata": {},
   "outputs": [],
   "source": []
  },
  {
   "cell_type": "markdown",
   "id": "dd26eead-7df7-413c-967f-fa4b71eb22c2",
   "metadata": {},
   "source": [
    "**Example of a basic while loop:**"
   ]
  },
  {
   "cell_type": "code",
   "execution_count": 44,
   "id": "505df60f-8dc3-4c11-ac6e-ea974f57f2d5",
   "metadata": {},
   "outputs": [
    {
     "name": "stdout",
     "output_type": "stream",
     "text": [
      "0\n",
      "1\n",
      "2\n",
      "3\n",
      "4\n"
     ]
    }
   ],
   "source": [
    "counter = 0\n",
    "while counter < 5:\n",
    "    print(counter)\n",
    "    counter += 1\n",
    "\n",
    "#In this example:\n",
    "\n",
    "#The loop starts with counter being 0.\n",
    "#It checks if counter < 5. If true, it prints counter, and then increments counter by 1.\n",
    "#This continues until counter reaches 5, at which point the condition becomes False, and the loop stops."
   ]
  },
  {
   "cell_type": "code",
   "execution_count": null,
   "id": "47cbd4fa-160c-469b-9be8-17da1d87f9b0",
   "metadata": {},
   "outputs": [],
   "source": []
  },
  {
   "cell_type": "markdown",
   "id": "76283851-6dc6-4a76-b634-e98baa6ffe89",
   "metadata": {},
   "source": [
    "**1. While Loop with a Range**\n",
    "\n",
    "A while loop with a range works similarly to a for loop. You can iterate over a range of numbers using the range() function."
   ]
  },
  {
   "cell_type": "code",
   "execution_count": 46,
   "id": "f1db248f-324c-4eed-804c-17b8af72fa1a",
   "metadata": {},
   "outputs": [
    {
     "name": "stdout",
     "output_type": "stream",
     "text": [
      "0\n",
      "1\n",
      "2\n",
      "3\n",
      "4\n"
     ]
    }
   ],
   "source": [
    "#Example\n",
    "i = 0\n",
    "while i < 5:\n",
    "    print(i)\n",
    "    i += 1\n",
    "#Here:\n",
    "\n",
    "#The loop will continue running as long as i is less than 5.\n",
    "#The variable i is manually incremented in each iteration."
   ]
  },
  {
   "cell_type": "code",
   "execution_count": 47,
   "id": "34b4b3dc-f5f9-4300-b939-f2f7a6f432aa",
   "metadata": {},
   "outputs": [
    {
     "name": "stdout",
     "output_type": "stream",
     "text": [
      "0\n",
      "1\n",
      "2\n",
      "3\n",
      "4\n"
     ]
    }
   ],
   "source": [
    "# range() to specify the start, stop, and step parameters in the loop:\n",
    "\n",
    "i = 0\n",
    "while i < len(range(5)):  # range(5) creates numbers 0 through 4\n",
    "    print(i)\n",
    "    i += 1\n"
   ]
  },
  {
   "cell_type": "code",
   "execution_count": null,
   "id": "3d69ee42-427e-4a0f-998b-078913e2575d",
   "metadata": {},
   "outputs": [],
   "source": []
  },
  {
   "cell_type": "markdown",
   "id": "be494345-d37f-4226-bc61-58a6a047362e",
   "metadata": {},
   "source": [
    "**2. While Loop with a String**\n",
    "\n",
    "In Python, strings are iterable objects, so you can use a while loop to iterate through each character of the string."
   ]
  },
  {
   "cell_type": "code",
   "execution_count": 48,
   "id": "6e77b426-4c80-4009-93e8-d42bbc516f91",
   "metadata": {},
   "outputs": [
    {
     "name": "stdout",
     "output_type": "stream",
     "text": [
      "h\n",
      "e\n",
      "l\n",
      "l\n",
      "o\n"
     ]
    }
   ],
   "source": [
    "s = \"hello\"\n",
    "index = 0\n",
    "while index < len(s):\n",
    "    print(s[index])\n",
    "    index += 1\n"
   ]
  },
  {
   "cell_type": "code",
   "execution_count": null,
   "id": "cec97c5f-2f59-4681-8fb5-76266dc4271a",
   "metadata": {},
   "outputs": [],
   "source": []
  },
  {
   "cell_type": "markdown",
   "id": "9772e578-abb0-4402-a252-969609e84769",
   "metadata": {},
   "source": [
    "**3. While Loop with a List**\n",
    "\n",
    "A list is also iterable, so you can iterate through its elements using a while loop."
   ]
  },
  {
   "cell_type": "code",
   "execution_count": 50,
   "id": "48b4a756-493f-4c88-96eb-7a5ba6968b7a",
   "metadata": {},
   "outputs": [
    {
     "name": "stdout",
     "output_type": "stream",
     "text": [
      "10\n",
      "20\n",
      "30\n",
      "40\n"
     ]
    }
   ],
   "source": [
    "lst = [10, 20, 30, 40]\n",
    "i = 0\n",
    "while i < len(lst):\n",
    "    print(lst[i])\n",
    "    i += 1\n"
   ]
  },
  {
   "cell_type": "code",
   "execution_count": null,
   "id": "30bce0ef-f25b-41e6-bde6-16726d339d36",
   "metadata": {},
   "outputs": [],
   "source": []
  },
  {
   "cell_type": "markdown",
   "id": "3c189d2c-3f6c-4796-b327-1811b062b519",
   "metadata": {},
   "source": [
    "**4. While Loop with a Tuple**\n",
    "\n",
    "A tuple is similar to a list, and you can iterate over its elements with a while loop as well."
   ]
  },
  {
   "cell_type": "code",
   "execution_count": 52,
   "id": "a26f6948-57c1-4a72-8beb-87d89a2ef768",
   "metadata": {},
   "outputs": [
    {
     "name": "stdout",
     "output_type": "stream",
     "text": [
      "1\n",
      "2\n",
      "3\n",
      "4\n"
     ]
    }
   ],
   "source": [
    "tup = (1, 2, 3, 4)\n",
    "i = 0\n",
    "while i < len(tup):\n",
    "    print(tup[i])\n",
    "    i += 1\n"
   ]
  },
  {
   "cell_type": "code",
   "execution_count": null,
   "id": "27d4394d-8d0b-4741-8035-ea2b6ca25dcf",
   "metadata": {},
   "outputs": [],
   "source": []
  },
  {
   "cell_type": "markdown",
   "id": "a592b2b7-d715-467c-97d1-85f4f7b49d50",
   "metadata": {},
   "source": [
    "**5. While Loop with a Dictionary**\n",
    "    \n",
    "In the case of dictionaries, you have multiple things you can iterate over, such as keys, values, or key-value pairs."
   ]
  },
  {
   "cell_type": "code",
   "execution_count": 55,
   "id": "e601a172-e823-4eb5-ae34-d1ae4f9bd303",
   "metadata": {},
   "outputs": [
    {
     "name": "stdout",
     "output_type": "stream",
     "text": [
      "a\n",
      "b\n",
      "c\n"
     ]
    }
   ],
   "source": [
    "#Iterating over keys:\n",
    "\n",
    "my_dict = {'a': 1, 'b': 2, 'c': 3}\n",
    "keys = list(my_dict.keys())\n",
    "i = 0\n",
    "while i < len(keys):\n",
    "    print(keys[i])\n",
    "    i += 1\n"
   ]
  },
  {
   "cell_type": "code",
   "execution_count": null,
   "id": "dbfd0ff6-7519-41cb-95b8-8e12ef61b958",
   "metadata": {},
   "outputs": [],
   "source": []
  },
  {
   "cell_type": "code",
   "execution_count": 57,
   "id": "2d6a636c-4787-471b-8051-f3c135564693",
   "metadata": {},
   "outputs": [
    {
     "name": "stdout",
     "output_type": "stream",
     "text": [
      "a: 1\n",
      "b: 2\n",
      "c: 3\n"
     ]
    }
   ],
   "source": [
    "#Iterating over key values:\n",
    "\n",
    "my_dict = {'a': 1, 'b': 2, 'c': 3}\n",
    "keys = list(my_dict.keys())\n",
    "i = 0\n",
    "while i < len(keys):\n",
    "    key = keys[i]\n",
    "    print(f\"{key}: {my_dict[key]}\")\n",
    "    i += 1\n"
   ]
  },
  {
   "cell_type": "code",
   "execution_count": null,
   "id": "5d2b717f-9991-4dc3-922a-2a5827d64370",
   "metadata": {},
   "outputs": [],
   "source": []
  },
  {
   "cell_type": "markdown",
   "id": "4f17298f-95f5-4513-9abb-41ef5f418b19",
   "metadata": {},
   "source": [
    "**6. While Loop with a Set**\n",
    "\n",
    "Sets are unordered collections, so iterating through them with a while loop can be done similarly to a list or tuple. However, the order is not guaranteed."
   ]
  },
  {
   "cell_type": "code",
   "execution_count": 58,
   "id": "370686ac-c015-420f-8a12-6c91c8f00a49",
   "metadata": {},
   "outputs": [
    {
     "name": "stdout",
     "output_type": "stream",
     "text": [
      "40\n",
      "10\n",
      "20\n",
      "30\n"
     ]
    }
   ],
   "source": [
    "my_set = {10, 20, 30, 40}\n",
    "my_set = list(my_set)  # Convert set to list for indexed access\n",
    "i = 0\n",
    "while i < len(my_set):\n",
    "    print(my_set[i])\n",
    "    i += 1\n"
   ]
  },
  {
   "cell_type": "code",
   "execution_count": null,
   "id": "94a55d95-8c6d-452a-a675-f166c1b0b617",
   "metadata": {},
   "outputs": [],
   "source": []
  },
  {
   "cell_type": "markdown",
   "id": "2e0230e4-f1b5-4050-846d-6fae353f257b",
   "metadata": {},
   "source": [
    "**Summary:**\n",
    "- Range: Typically used in conjunction with a counter variable, iterating over a specified range of values.\n",
    "- String: You can iterate over the string's characters by indexing.\n",
    "- List: Iterate over list elements, using the index to access each item.\n",
    "- Tuple: Same as with a list; you access elements via the index.\n",
    "- Dictionary: Can iterate over keys, values, or both, but you often convert the keys into a list for indexing.\n",
    "- Set: Since sets are unordered, they need to be converted into a list if you want to use an index-based loop.\n",
    "  \n",
    "In general, while loops in Python give you more control over the iteration, but for most cases where you are iterating through collections, for loops are often more concise and preferred. Let me know if you need further examples or explanations!\n",
    "\n",
    "\n",
    "\n"
   ]
  },
  {
   "cell_type": "code",
   "execution_count": null,
   "id": "3abf4f31-a113-4764-87a2-7164135dc909",
   "metadata": {},
   "outputs": [],
   "source": []
  },
  {
   "cell_type": "markdown",
   "id": "f9787089-4703-4a78-9aac-f677b42ad9b7",
   "metadata": {},
   "source": [
    "**NESTED WHILE LOOP**"
   ]
  },
  {
   "cell_type": "markdown",
   "id": "b2dad3a1-c39a-4fd1-b23f-3179cf913211",
   "metadata": {},
   "source": [
    "A nested while loop in Python refers to a while loop inside another while loop. This is useful when you need to perform repetitive tasks within a repetitive task."
   ]
  },
  {
   "cell_type": "markdown",
   "id": "51d9fd65-5c67-47e3-882f-287414a30463",
   "metadata": {},
   "source": [
    "**Basic Structure of a Nested while Loop:**\n",
    "\n",
    "while condition1:\n",
    "    # code to be executed in the outer loop\n",
    "    while condition2:\n",
    "        # code to be executed in the inner loop\n",
    "\n",
    "Explanation:\n",
    "\n",
    "- The outer while loop starts first and continues as long as condition1 is True.\n",
    "- The inner while loop runs for each iteration of the outer loop as long as condition2 is True.\n",
    "- The inner loop can also be nested with another loop, creating multiple levels of nested loops.\n",
    "\n",
    "    \n",
    "\n"
   ]
  },
  {
   "cell_type": "code",
   "execution_count": null,
   "id": "92311154-561e-4638-8c71-3d3fc44eb3cf",
   "metadata": {},
   "outputs": [],
   "source": []
  },
  {
   "cell_type": "code",
   "execution_count": 60,
   "id": "f2eb3892-85a8-4361-9725-7e40cc00ae21",
   "metadata": {},
   "outputs": [
    {
     "name": "stdout",
     "output_type": "stream",
     "text": [
      "Outer loop: 1, Inner loop: 1\n",
      "Outer loop: 1, Inner loop: 2\n",
      "Outer loop: 2, Inner loop: 1\n",
      "Outer loop: 2, Inner loop: 2\n",
      "Outer loop: 3, Inner loop: 1\n",
      "Outer loop: 3, Inner loop: 2\n"
     ]
    }
   ],
   "source": [
    "# EXAMPLE 1 : SIMPLE NESTED WHILE LOOP\n",
    "\n",
    "i = 1\n",
    "while i <= 3:  # Outer loop condition\n",
    "    j = 1\n",
    "    while j <= 2:  # Inner loop condition\n",
    "        print(f\"Outer loop: {i}, Inner loop: {j}\")\n",
    "        j += 1  # Increment inner loop counter\n",
    "    i += 1  # Increment outer loop counter\n"
   ]
  },
  {
   "cell_type": "code",
   "execution_count": null,
   "id": "6e718574-b676-4d25-a4ce-03867912b634",
   "metadata": {},
   "outputs": [],
   "source": []
  },
  {
   "cell_type": "markdown",
   "id": "80d37171-da79-4b92-8d0b-c3a7aa7253db",
   "metadata": {},
   "source": [
    "Key Points:\n",
    "\n",
    "1. Initialization: The counter variables i and j are initialized before their respective loops. This is important because if they aren't properly initialized, the loops might either never run or run incorrectly.\n",
    "\n",
    "2. Condition: The condition for each loop is checked before every iteration. The outer loop condition is checked first, and if it’s True, the inner loop will be checked next.\n",
    "\n",
    "3. Increment: Each loop typically increments its loop variable to avoid creating an infinite loop. Without proper incrementation or modification of the loop variables, the loop can get stuck running infinitely.\n",
    "\n",
    "4. Flow of Execution:\n",
    "\n",
    "- The outer loop starts and checks its condition.\n",
    "- For each iteration of the outer loop, the inner loop runs through all of its iterations.\n",
    "- Once the inner loop finishes its work, the outer loop increments, and the inner loop starts again for the next outer loop iteration"
   ]
  },
  {
   "cell_type": "code",
   "execution_count": null,
   "id": "d0b9ba77-e2de-439f-a78c-69a6b983e1d5",
   "metadata": {},
   "outputs": [],
   "source": []
  },
  {
   "cell_type": "code",
   "execution_count": 61,
   "id": "5cd7a51c-903a-4fbe-8043-56b762c0c205",
   "metadata": {},
   "outputs": [
    {
     "name": "stdout",
     "output_type": "stream",
     "text": [
      "1 * 1 = 1\n",
      "1 * 2 = 2\n",
      "1 * 3 = 3\n",
      "1 * 4 = 4\n",
      "1 * 5 = 5\n",
      "2 * 1 = 2\n",
      "2 * 2 = 4\n",
      "2 * 3 = 6\n",
      "2 * 4 = 8\n",
      "2 * 5 = 10\n",
      "3 * 1 = 3\n",
      "3 * 2 = 6\n",
      "3 * 3 = 9\n",
      "3 * 4 = 12\n",
      "3 * 5 = 15\n",
      "4 * 1 = 4\n",
      "4 * 2 = 8\n",
      "4 * 3 = 12\n",
      "4 * 4 = 16\n",
      "4 * 5 = 20\n",
      "5 * 1 = 5\n",
      "5 * 2 = 10\n",
      "5 * 3 = 15\n",
      "5 * 4 = 20\n",
      "5 * 5 = 25\n"
     ]
    }
   ],
   "source": [
    "## EXAMPLE 2: Nested Loop for Multiplication Table\n",
    "\n",
    "i = 1\n",
    "while i <= 5:  # Outer loop for numbers 1 to 5\n",
    "    j = 1\n",
    "    while j <= 5:  # Inner loop for numbers 1 to 5\n",
    "        print(f\"{i} * {j} = {i * j}\")\n",
    "        j += 1\n",
    "    i += 1\n"
   ]
  },
  {
   "cell_type": "code",
   "execution_count": null,
   "id": "14351f27-0919-4535-8b64-5e3e0776175a",
   "metadata": {},
   "outputs": [],
   "source": []
  },
  {
   "cell_type": "markdown",
   "id": "a1bac00b-2cfb-4506-a120-c273dfbad56d",
   "metadata": {},
   "source": [
    "**Control Flow Modifiers in Python**\n",
    "\n",
    "Control flow modifiers are special statements in Python that alter the normal flow of execution in loops and conditional blocks. These modifiers allow you to skip iterations, terminate loops early, or even make the program do nothing in certain situations. The three most commonly used control flow modifiers in Python are:\n",
    "\n",
    "- break\n",
    "- continue\n",
    "- pass"
   ]
  },
  {
   "cell_type": "markdown",
   "id": "6ce76e2a-5dcd-4abf-815d-791a773dddac",
   "metadata": {},
   "source": [
    "**1. break Statement**\n",
    "\n",
    "The break statement is used to immediately exit the current loop. Once the break statement is executed, the control flow is transferred to the first statement outside the loop. It can be used in both for loops and while loops to terminate the loop early based on a condition"
   ]
  },
  {
   "cell_type": "markdown",
   "id": "ea56bd41-5fc6-4e1a-b453-5f032bd20900",
   "metadata": {},
   "source": [
    "**Syntax:**\n",
    "\n",
    "break\n"
   ]
  },
  {
   "cell_type": "code",
   "execution_count": 62,
   "id": "00f6996f-2af8-4ab5-a2b1-164be194b73e",
   "metadata": {},
   "outputs": [
    {
     "name": "stdout",
     "output_type": "stream",
     "text": [
      "0\n",
      "1\n",
      "2\n",
      "3\n",
      "4\n",
      "Breaking out of the loop\n"
     ]
    }
   ],
   "source": [
    "# example \n",
    "\n",
    "for i in range(10):\n",
    "    if i == 5:\n",
    "        print(\"Breaking out of the loop\")\n",
    "        break  # Exit the loop when i reaches 5\n",
    "    print(i)\n"
   ]
  },
  {
   "cell_type": "markdown",
   "id": "f30b5397-9853-4820-a2f9-78b8d4ddd15e",
   "metadata": {},
   "source": [
    "In this example:\n",
    "\n",
    "- The loop iterates over numbers from 0 to 9.\n",
    "\n",
    "- When i == 5, the break statement is triggered, and the loop terminates.\n",
    "\n",
    "- The output shows numbers 0 through 4, and then the message \"Breaking out of the loop\" is printed."
   ]
  },
  {
   "cell_type": "markdown",
   "id": "6cf51708-7135-47b2-8093-06672a95d6d8",
   "metadata": {},
   "source": [
    "**When to use break:**\n",
    "\n",
    "When you want to exit a loop early, such as when a specific condition is met (e.g., a search operation where you stop once you've found the item).\n"
   ]
  },
  {
   "cell_type": "code",
   "execution_count": null,
   "id": "3eb94bca-86ea-4617-b05a-f066fba75228",
   "metadata": {},
   "outputs": [],
   "source": []
  },
  {
   "cell_type": "markdown",
   "id": "470ec970-90a7-448e-8826-08c0286dedeb",
   "metadata": {},
   "source": [
    "**2. continue Statement**\n",
    "\n",
    "The continue statement is used to skip the rest of the current iteration and proceed with the next iteration of the loop. When the continue statement is encountered, the loop does not execute the remaining code in the current iteration, but moves directly to the next iteration (if the loop condition is still true)."
   ]
  },
  {
   "cell_type": "markdown",
   "id": "b763f2b2-a5de-481c-9bfe-bab0d4bcb7e6",
   "metadata": {},
   "source": [
    "**SYNTAX:**\n",
    "\n",
    "  continue\n"
   ]
  },
  {
   "cell_type": "code",
   "execution_count": 63,
   "id": "46a1a567-6c1e-457f-8b98-c18f84b488fb",
   "metadata": {},
   "outputs": [
    {
     "name": "stdout",
     "output_type": "stream",
     "text": [
      "0\n",
      "1\n",
      "3\n",
      "4\n"
     ]
    }
   ],
   "source": [
    "#example\n",
    "\n",
    "for i in range(5):\n",
    "    if i == 2:\n",
    "        continue  # Skip the iteration when i equals 2\n",
    "    print(i)\n"
   ]
  },
  {
   "cell_type": "markdown",
   "id": "f40784fa-36ee-4cca-85f1-0cbe911b2423",
   "metadata": {},
   "source": [
    "In this example:\n",
    "\n",
    "- The loop iterates over numbers from 0 to 4.\n",
    "- When i == 2, the continue statement is triggered, which causes the loop to skip printing 2.\n",
    "- As a result, the output excludes 2 from the sequence."
   ]
  },
  {
   "cell_type": "markdown",
   "id": "086ebb02-35d7-4877-ab83-e272ab086396",
   "metadata": {},
   "source": [
    "**When to use continue:**\n",
    "\n",
    "When you want to skip specific iterations of a loop based on a condition but still want the loop to continue running.\n",
    "\n",
    "Example: Skipping over unwanted items in a collection or when processing data but ignoring certain invalid entries."
   ]
  },
  {
   "cell_type": "markdown",
   "id": "991f3e16-5896-4933-b40d-94ea803b0afa",
   "metadata": {},
   "source": [
    "**3. pass Statement**\n",
    "\n",
    "The pass statement is a placeholder that does nothing. It is often used in situations where a statement is syntactically required but you have no code to execute. This is common in functions, loops, or conditionals that are not yet implemented, or as a temporary placeholder during development."
   ]
  },
  {
   "cell_type": "markdown",
   "id": "2177867d-e6ca-4fe5-8d66-84c74aa05253",
   "metadata": {},
   "source": [
    "**SYNTAX**\n",
    "\n",
    "pass\n"
   ]
  },
  {
   "cell_type": "code",
   "execution_count": 65,
   "id": "e38838cb-4d00-4ce3-8820-d9323d910a74",
   "metadata": {},
   "outputs": [
    {
     "name": "stdout",
     "output_type": "stream",
     "text": [
      "0\n",
      "1\n",
      "2\n",
      "3\n",
      "4\n"
     ]
    }
   ],
   "source": [
    "#example\n",
    "\n",
    "for i in range(5):\n",
    "    if i == 2:\n",
    "        pass  # Do nothing when i equals 2\n",
    "    print(i)\n"
   ]
  },
  {
   "cell_type": "markdown",
   "id": "613b900e-c042-40ae-806c-a6c0bd0f44d1",
   "metadata": {},
   "source": [
    "In this example:\n",
    "\n",
    "The loop iterates from 0 to 4.\n",
    "\n",
    "When i == 2, the pass statement is encountered. It does nothing and the loop continues with the next iteration.\n",
    "\n",
    "The output will be the same as a normal loop because pass has no effect."
   ]
  },
  {
   "cell_type": "markdown",
   "id": "f15fb9e6-db3a-4f85-a05f-a268056c2885",
   "metadata": {},
   "source": [
    "**When to use pass:**\n",
    "\n",
    "- As a placeholder in code where a statement is syntactically required, but you don’t want to implement any logic yet.\n",
    "- In empty classes, functions, or conditionals during development.\n",
    "- When you need an empty loop or block of code for syntactical correctness."
   ]
  },
  {
   "cell_type": "markdown",
   "id": "09a29f61-7f88-4040-9efa-65d7d23a5ea0",
   "metadata": {},
   "source": [
    "**Detailed Examples and Use Cases**"
   ]
  },
  {
   "cell_type": "markdown",
   "id": "23b51739-7d1f-4567-9767-a5df8d85117a",
   "metadata": {},
   "source": [
    "**break in a Search Operation:**\n",
    "\n",
    "Imagine you’re searching for a specific item in a list and want to stop once you find it."
   ]
  },
  {
   "cell_type": "code",
   "execution_count": 67,
   "id": "3313741e-8424-448a-8c02-88939a92f425",
   "metadata": {},
   "outputs": [
    {
     "name": "stdout",
     "output_type": "stream",
     "text": [
      "cherry found!\n"
     ]
    }
   ],
   "source": [
    "#example \n",
    "\n",
    "fruits = ['apple', 'banana', 'cherry', 'date']\n",
    "search_item = 'cherry'\n",
    "\n",
    "for fruit in fruits:\n",
    "    if fruit == search_item:\n",
    "        print(f\"{search_item} found!\")\n",
    "        break  # Exit the loop once the item is found\n",
    "\n",
    "\n",
    "#The loop stops as soon as the fruit is found, which is more efficient than continuing to search through the entire list.\n"
   ]
  },
  {
   "cell_type": "markdown",
   "id": "8ad70ed0-a583-4e3e-aaeb-e46ff820008b",
   "metadata": {},
   "source": [
    "**continue in Filtering:**"
   ]
  },
  {
   "cell_type": "code",
   "execution_count": 69,
   "id": "72e77bdb-6654-42d6-9a6a-85bd76b9affa",
   "metadata": {},
   "outputs": [
    {
     "name": "stdout",
     "output_type": "stream",
     "text": [
      "1\n",
      "3\n",
      "5\n",
      "7\n",
      "9\n"
     ]
    }
   ],
   "source": [
    "numbers = [1, 2, 3, 4, 5, 6, 7, 8, 9]\n",
    "\n",
    "for num in numbers:\n",
    "    if num % 2 == 0:\n",
    "        continue  # Skip the even numbers\n",
    "    print(num)\n",
    "    \n",
    "#The continue statement skips the printing of even numbers, allowing only odd numbers to be printed."
   ]
  },
  {
   "cell_type": "markdown",
   "id": "cb232939-dc47-4855-bcb7-625ce2ac2686",
   "metadata": {},
   "source": [
    "**pass as a Placeholder in Functions:**"
   ]
  },
  {
   "cell_type": "code",
   "execution_count": 71,
   "id": "e1b5f532-2f74-40a3-b022-246f87eb7f6c",
   "metadata": {},
   "outputs": [],
   "source": [
    "def some_function():\n",
    "    pass  # Placeholder for future implementation\n",
    "\n",
    "def another_function():\n",
    "    print(\"This function does something\")\n",
    "\n",
    "#In this example, some_function() is not yet implemented, but the program will run without errors due to the use of pass."
   ]
  },
  {
   "cell_type": "markdown",
   "id": "5f155e08-b0bd-4b9a-9469-9ed2863ada1c",
   "metadata": {},
   "source": [
    "**pass in an Empty Loop:**"
   ]
  },
  {
   "cell_type": "code",
   "execution_count": 73,
   "id": "67d14b71-462a-477f-b4db-90a1d24fb107",
   "metadata": {},
   "outputs": [
    {
     "name": "stdout",
     "output_type": "stream",
     "text": [
      "0\n",
      "1\n",
      "2\n",
      "3\n",
      "4\n",
      "6\n",
      "7\n",
      "8\n",
      "9\n"
     ]
    }
   ],
   "source": [
    "for i in range(10):\n",
    "    if i == 5:\n",
    "        pass  # Do nothing when i equals 5\n",
    "    else:\n",
    "        print(i)\n",
    "#Here, the pass allows you to specify that when i == 5, nothing should happen, but the loop continues with the next iteration."
   ]
  },
  {
   "cell_type": "code",
   "execution_count": null,
   "id": "1b0f58e3-5058-4f4e-9ef8-fa433ddd041c",
   "metadata": {},
   "outputs": [],
   "source": []
  },
  {
   "cell_type": "markdown",
   "id": "1e7bf7c0-b595-4d2a-9daf-1699e1dd6fbd",
   "metadata": {},
   "source": [
    "**Key Differences Between break, continue, and pass:**"
   ]
  },
  {
   "cell_type": "markdown",
   "id": "877eb091-156f-4c88-9b0c-f6347f82cafd",
   "metadata": {},
   "source": [
    "| Statement   | Purpose                                                              | Usage                                                                 |\n",
    "|-------------|----------------------------------------------------------------------|-----------------------------------------------------------------------|\n",
    "| `break`     | Terminates the loop immediately and transfers control to the next statement after the loop. | Used to exit the loop early, for example, after finding an item or meeting a condition. |\n",
    "| `continue`  | Skips the current iteration and moves to the next iteration of the loop. | Used to skip specific iterations, for example, to ignore certain values. |\n",
    "| `pass`      | Does nothing and is a placeholder.                                   | Used when a statement is required syntactically but no action is needed. |\n"
   ]
  },
  {
   "cell_type": "markdown",
   "id": "4238ade5-5d7d-43ba-8d41-fe363c24e5f7",
   "metadata": {},
   "source": [
    "**Conclusion**\n",
    "\n",
    "Control flow modifiers (break, continue, and pass) are powerful tools in Python that help you control the execution flow of loops and conditionals. They allow for more efficient and cleaner code by enabling early exits from loops, skipping certain iterations, or temporarily leaving parts of the code unimplemented. Understanding when and how to use these modifiers will help you write better and more efficient Python code."
   ]
  },
  {
   "cell_type": "code",
   "execution_count": null,
   "id": "69b6ad6d-f7c0-403a-8efd-c45f7db5faa5",
   "metadata": {},
   "outputs": [],
   "source": []
  }
 ],
 "metadata": {
  "kernelspec": {
   "display_name": "Python 3 (ipykernel)",
   "language": "python",
   "name": "python3"
  },
  "language_info": {
   "codemirror_mode": {
    "name": "ipython",
    "version": 3
   },
   "file_extension": ".py",
   "mimetype": "text/x-python",
   "name": "python",
   "nbconvert_exporter": "python",
   "pygments_lexer": "ipython3",
   "version": "3.12.0rc3"
  }
 },
 "nbformat": 4,
 "nbformat_minor": 5
}
